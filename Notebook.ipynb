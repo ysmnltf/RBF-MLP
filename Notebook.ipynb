{
 "cells": [
  {
   "cell_type": "markdown",
   "metadata": {},
   "source": [
    "# Imports"
   ]
  },
  {
   "cell_type": "code",
   "execution_count": null,
   "metadata": {},
   "outputs": [],
   "source": [
    "from tf.keras.utils import plot_model\n",
    "import numpy as np\n",
    "import tensorflow as tf\n",
    "from tensorflow.keras import Input, Model\n",
    "from tensorflow.keras.layers import Dense, Activation\n",
    "import matplotlib.pyplot as plt\n",
    "from tensorflow.keras.models import Sequential\n",
    "from sklearn.cluster import KMeans\n",
    "from sklearn.mixture import GaussianMixture\n",
    "import scipy.stats"
   ]
  },
  {
   "cell_type": "markdown",
   "metadata": {},
   "source": [
    "# Helpers"
   ]
  },
  {
   "cell_type": "code",
   "execution_count": null,
   "metadata": {},
   "outputs": [],
   "source": [
    "def y_func(x, m):\n",
    "    return 1/3 + 0.5 * np.sin(3 * x * np.pi) + m\n",
    "\n",
    "# sample data using numpy's random_sample\n",
    "def generate_data(n):\n",
    "    x = np.random.random_sample((n, 1))\n",
    "    m = 1.4 * np.random.random_sample((n , 1)) - 0.7\n",
    "    y = y_func(x, m)\n",
    "    return (x, y)\n",
    "\n",
    "# draw plot using x ,y , and title\n",
    "def draw_plot(x, y, pred, title):\n",
    "    plt.scatter(x, y, c=\"b\")\n",
    "    if (pred is not None):\n",
    "        plt.scatter(x, pred, c=\"r\")\n",
    "        plt.legend([\"truth\", \"prediction\"], loc =\"lower right\")\n",
    "    plt.title(title)\n",
    "    plt.xlabel(\"x\")\n",
    "    plt.ylabel(\"y\")\n",
    "    plt.show()"
   ]
  },
  {
   "cell_type": "markdown",
   "metadata": {},
   "source": [
    "# Dataset"
   ]
  },
  {
   "cell_type": "code",
   "execution_count": null,
   "metadata": {},
   "outputs": [],
   "source": [
    "rbf_train_x, rbf_train_y = generate_data(300)\n",
    "rbf_valid_x, rbf_valid_y = generate_data(30)\n",
    "\n",
    "draw_plot(rbf_train_x, rbf_train_y, title=\"Generated train data\", pred=None)\n",
    "draw_plot(rbf_valid_x, rbf_valid_y, title=\"Generated valid data\", pred=None)"
   ]
  },
  {
   "cell_type": "markdown",
   "metadata": {},
   "source": [
    "# MLP"
   ]
  },
  {
   "cell_type": "code",
   "execution_count": null,
   "metadata": {},
   "outputs": [],
   "source": [
    "def create_mlp(layers=[60, 40, 30, 20]):\n",
    "    # input layer\n",
    "    input_layer = Input(shape=(None,1))\n",
    "    # hidden layers\n",
    "    x = Dense(layers[0])(input_layer)\n",
    "    x = Activation(\"relu\")(x)\n",
    "\n",
    "    for i in range(1, len(layers)):\n",
    "        x = Dense(layers[i])(x)\n",
    "        x = Activation(\"relu\")(x)\n",
    "        \n",
    "    # output layer\n",
    "    x = Dense(1)(x)\n",
    "    model = Model(inputs=input_layer, outputs=x)\n",
    "    model.compile(loss='mean_squared_error', optimizer='SGD')\n",
    "    return model"
   ]
  },
  {
   "cell_type": "code",
   "execution_count": null,
   "metadata": {},
   "outputs": [],
   "source": [
    "model = create_mlp()\n",
    "plot_model(model)\n",
    "model.fit(rbf_train_x, rbf_train_y, validation_data=(rbf_valid_x, rbf_valid_y) , epochs=500, batch_size=50, verbose=0)\n",
    "mlp_pred_valid_y = model.predict(rbf_valid_x)\n",
    "draw_plot(x=rbf_valid_x, y=rbf_valid_y, pred=mlp_pred_valid_y, title=\"Predicted valid data after 500 epochs\")\n",
    "mlp_pred_train_y = model.predict(rbf_train_x)\n",
    "draw_plot(x=rbf_train_x, y=rbf_train_y, pred=mlp_pred_train_y, title=\"Predicted train data after 500 epochs\")\n",
    "\n",
    "model.fit(rbf_train_x, rbf_train_y, validation_data=(rbf_valid_x, rbf_valid_y) , epochs=300, batch_size=50, verbose=0)\n",
    "mlp_pred_valid_y = model.predict(rbf_valid_x)\n",
    "draw_plot(x=rbf_valid_x, y=rbf_valid_y, pred=mlp_pred_valid_y, title=\"Predicted valid data after 800 epochs\")\n",
    "mlp_pred_train_y = model.predict(rbf_train_x)\n",
    "draw_plot(x=rbf_train_x, y=rbf_train_y, pred=mlp_pred_train_y, title=\"Predicted train data after 800 epochs\")"
   ]
  },
  {
   "cell_type": "markdown",
   "metadata": {},
   "source": [
    "# RBF"
   ]
  },
  {
   "cell_type": "code",
   "execution_count": null,
   "metadata": {},
   "outputs": [],
   "source": [
    "class RBF:\n",
    "    def __init__(self, input_n, lr=0.01, cluster_method=\"kmeans\"):\n",
    "        self.input_n = input_n\n",
    "        self.clusters_n = input_n // 2\n",
    "        self.lr = lr\n",
    "        # output layer weights\n",
    "        self.w = np.random.random((self.clusters_n,1))\n",
    "        self.b = np.random.random((1,1))\n",
    "        self.cluster_method = cluster_method\n",
    "        \n",
    "    def find_centers_knn(self, inputs):\n",
    "        clusters = KMeans(n_clusters=self.clusters_n).fit(inputs)\n",
    "        return clusters.cluster_centers_\n",
    "\n",
    "    def find_centers_gmm(self, inputs):\n",
    "        gmm = GaussianMixture(n_components=self.clusters_n)\n",
    "        gmm.fit(inputs)\n",
    "        centers = []\n",
    "        for i in range(gmm.n_components):\n",
    "            density = scipy.stats.multivariate_normal(cov=gmm.covariances_[i], mean=gmm.means_[i]).logpdf(rbf_train_x)\n",
    "            centers.append(rbf_train_x[np.argmax(density)])\n",
    "        return np.array(centers)\n",
    "\n",
    "    def gaus_dist(self, p1, p2):\n",
    "        return np.abs(p1-p2)\n",
    "\n",
    "    def rfb_layer(self, inputs):\n",
    "        d = self.gaus_dist(inputs, self.centers)\n",
    "        return np.exp(-d/np.power(self.rs,2))\n",
    "    \n",
    "    \n",
    "    \n",
    "    def calculate_error(self, truth, pred):\n",
    "        return (np.power(truth-pred,2)).mean()\n",
    "    \n",
    "    def get_result(self, inputs, truth):\n",
    "        rbf_res = self.rfb_layer(inputs)\n",
    "        \n",
    "        output = np.dot(self.w.T, rbf_res) + self.b\n",
    "        # learn output layer w and b with gradient\n",
    "        if (truth is not None):\n",
    "            err = (output.reshape(1,1) - truth.reshape(1,1))\n",
    "            self.w = self.w - self.lr * rbf_res * err\n",
    "            self.b = self.b - self.lr * err\n",
    "        \n",
    "        return output\n",
    "    \n",
    "            \n",
    "    def predict(self, x):\n",
    "        y = []\n",
    "        for i in range(len(x)):\n",
    "            y_i = self.get_result(x[i], truth=None)\n",
    "            y.append(y_i)\n",
    "            \n",
    "        return np.array(y)\n",
    "        \n",
    "    \n",
    "    def train(self, inputs, answers, epochs, continute_train=False):\n",
    "        # rbf layers radius and centers\n",
    "        if (not continute_train):\n",
    "            if (self.cluster_method == \"kmeans\"):\n",
    "              self.centers = self.find_centers_knn(inputs)\n",
    "            elif (self.cluster_method == \"gmm\"):\n",
    "              self.centers = self.find_centers_gmm(inputs)\n",
    "            max_dist = max([np.abs(c1 - c2) for c1 in self.centers for c2 in self.centers])\n",
    "            self.rs = np.repeat(max_dist / np.sqrt(2*self.clusters_n), self.clusters_n)\n",
    "            self.rs = np.expand_dims(self.rs, axis=1)\n",
    "            \n",
    "        for e in range(epochs):\n",
    "            for i in range(self.input_n):\n",
    "                self.get_result(inputs[i], answers[i])\n",
    "        "
   ]
  },
  {
   "cell_type": "markdown",
   "metadata": {},
   "source": [
    "## Finding centers using KMeans"
   ]
  },
  {
   "cell_type": "code",
   "execution_count": null,
   "metadata": {},
   "outputs": [],
   "source": [
    "rbf = RBF(len(rbf_train_x) // 2)\n",
    "rbf.train(rbf_train_x, rbf_train_y, 100)\n",
    "rbf_pred_valid_y = rbf.predict(rbf_valid_x).reshape((-1,1))\n",
    "draw_plot(x=rbf_valid_x, y=rbf_valid_y, pred=rbf_pred_valid_y, title=\"Predicted valid data after 100 epochs\")\n",
    "rbf_pred_train_y = rbf.predict(rbf_train_x).reshape((-1,1))\n",
    "draw_plot(x=rbf_train_x, y=rbf_train_y, pred=rbf_pred_train_y, title=\"Predicted train data after 100 epochs\")\n",
    "\n",
    "rbf.train(rbf_train_x, rbf_train_y, 100)\n",
    "rbf_pred_valid_y = rbf.predict(rbf_valid_x).reshape((-1,1))\n",
    "draw_plot(x=rbf_valid_x, y=rbf_valid_y, pred=rbf_pred_valid_y, title=\"Predicted valid data after 200 epochs\")\n",
    "rbf_pred_train_y = rbf.predict(rbf_train_x).reshape((-1,1))\n",
    "draw_plot(x=rbf_train_x, y=rbf_train_y, pred=rbf_pred_train_y, title=\"Predicted train data after 200 epochs\")"
   ]
  },
  {
   "cell_type": "markdown",
   "metadata": {},
   "source": [
    "## Finding centers using GMM"
   ]
  },
  {
   "cell_type": "code",
   "execution_count": null,
   "metadata": {},
   "outputs": [],
   "source": [
    "rbf_gmm = RBF(len(rbf_train_x) // 2, cluster_method=\"gmm\")\n",
    "rbf_gmm.train(rbf_train_x, rbf_train_y, 100)\n",
    "rbf_gmm_pred_valid_y = rbf_gmm.predict(rbf_valid_x).reshape((-1,1))\n",
    "draw_plot(x=rbf_valid_x, y=rbf_valid_y, pred=rbf_gmm_pred_valid_y, title=\"Predicted valid data after 100 epochs\")\n",
    "rbf_gmm_pred_train_y = rbf_gmm.predict(rbf_train_x).reshape((-1,1))\n",
    "draw_plot(x=rbf_train_x, y=rbf_train_y, pred=rbf_gmm_pred_train_y, title=\"Predicted train data after 100 epochs\")\n",
    "\n",
    "rbf_gmm.train(rbf_train_x, rbf_train_y, 100)\n",
    "rbf_gmm_pred_valid_y = rbf_gmm.predict(rbf_valid_x).reshape((-1,1))\n",
    "draw_plot(x=rbf_valid_x, y=rbf_valid_y, pred=rbf_gmm_pred_valid_y, title=\"Predicted valid data after 200 epochs\")\n",
    "rbf_gmm_pred_train_y = rbf_gmm.predict(rbf_train_x).reshape((-1,1))\n",
    "draw_plot(x=rbf_train_x, y=rbf_train_y, pred=rbf_gmm_pred_train_y, title=\"Predicted train data after 200 epochs\")"
   ]
  },
  {
   "cell_type": "markdown",
   "metadata": {},
   "source": [
    "# Comparing results"
   ]
  },
  {
   "cell_type": "code",
   "execution_count": null,
   "metadata": {},
   "outputs": [],
   "source": [
    "plt.scatter(rbf_train_x, rbf_train_y, c=\"b\")\n",
    "plt.scatter(rbf_train_x, mlp_pred_train_y, c=\"r\")\n",
    "plt.scatter(rbf_train_x, rbf_pred_train_y, c=\"y\")\n",
    "plt.legend([\"truth\", \"mlp\", \"rbf\"], loc =\"lower right\")\n",
    "plt.title(\"Comparison of train data\")\n",
    "plt.xlabel(\"x\")\n",
    "plt.ylabel(\"y\")\n",
    "plt.show()\n",
    "\n",
    "plt.scatter(rbf_valid_x, rbf_valid_y, c=\"b\")\n",
    "plt.scatter(rbf_valid_x, mlp_pred_valid_y, c=\"r\")\n",
    "plt.scatter(rbf_valid_x, rbf_pred_valid_y, c=\"y\")\n",
    "plt.legend([\"truth\", \"mlp\", \"rbf\"], loc =\"lower right\")\n",
    "plt.title(\"Comparison of valid data\")\n",
    "plt.xlabel(\"x\")\n",
    "plt.ylabel(\"y\")\n",
    "plt.show()"
   ]
  }
 ],
 "metadata": {
  "language_info": {
   "name": "python"
  },
  "orig_nbformat": 4
 },
 "nbformat": 4,
 "nbformat_minor": 2
}
